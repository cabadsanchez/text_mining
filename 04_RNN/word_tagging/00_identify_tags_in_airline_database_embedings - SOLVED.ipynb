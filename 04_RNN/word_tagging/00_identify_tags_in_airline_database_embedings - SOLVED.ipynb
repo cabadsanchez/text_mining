{
 "cells": [
  {
   "cell_type": "markdown",
   "metadata": {},
   "source": [
    "# Identify tags in airline database\n",
    "\n",
    "## Minimal code\n",
    "\n",
    "    - Read dataset\n",
    "    - transform data\n",
    "    - Minimal model\n",
    "        - Embedings\n",
    "        - Dense\n",
    "        \n"
   ]
  },
  {
   "cell_type": "code",
   "execution_count": 1,
   "metadata": {},
   "outputs": [
    {
     "name": "stderr",
     "output_type": "stream",
     "text": [
      "/Users/jorge/anaconda3/envs/tm/lib/python3.6/site-packages/h5py/__init__.py:36: FutureWarning: Conversion of the second argument of issubdtype from `float` to `np.floating` is deprecated. In future, it will be treated as `np.float64 == np.dtype(float).type`.\n",
      "  from ._conv import register_converters as _register_converters\n"
     ]
    },
    {
     "name": "stdout",
     "output_type": "stream",
     "text": [
      "1.7.0\n"
     ]
    }
   ],
   "source": [
    "from __future__ import print_function\n",
    "\n",
    "import os \n",
    "import numpy as np \n",
    "\n",
    "import tensorflow as tf \n",
    "print(tf.__version__)\n",
    "\n",
    "os.environ[\"CUDA_DEVICE_ORDER\"]=\"PCI_BUS_ID\"\n",
    "os.environ[\"CUDA_VISIBLE_DEVICES\"]=\"1\"\n",
    "\n",
    "#Show images\n",
    "import matplotlib.pyplot as plt\n",
    "%matplotlib inline\n",
    "# plt configuration\n",
    "plt.rcParams['figure.figsize'] = (10, 10)        # size of images\n"
   ]
  },
  {
   "cell_type": "markdown",
   "metadata": {},
   "source": [
    "## Dataset\n",
    "\n",
    "ATIS (Airline Travel Information System) dataset. Available in: https://github.com/mesnilgr/is13/blob/master/data/load.py\n",
    "\n",
    "### Example:\n",
    "\n",
    "Input (words)\tshow\tflights\tfrom\tBoston\tto\tNew\tYork\ttoday\n",
    "\n",
    "Output (labels)\tO\tO\tO\tB-dept\tO\tB-arr\tI-arr\tB-date\n",
    "\n",
    "\n"
   ]
  },
  {
   "cell_type": "code",
   "execution_count": 2,
   "metadata": {},
   "outputs": [],
   "source": [
    "# Read data\n",
    "import pickle\n",
    "import sys\n",
    "\n",
    "atis_file = '../../data/atis/atis.pkl'\n",
    "\n",
    "with open(atis_file,'rb') as f:\n",
    "    if sys.version_info.major==2:\n",
    "        train, test, dicts = pickle.load(f) #python2.7\n",
    "    else:\n",
    "        train, test, dicts = pickle.load(f, encoding='bytes') #python3\n"
   ]
  },
  {
   "cell_type": "markdown",
   "metadata": {},
   "source": [
    "## train / test sets:\n",
    "    - X: list of input sequences\n",
    "    - label: List of target labels asociated to each word in each sentence.\n",
    "## Dictionaries\n",
    "    - labels2idx:  To decode the labels\n",
    "    - words2idx: To decode the sentences"
   ]
  },
  {
   "cell_type": "code",
   "execution_count": 3,
   "metadata": {},
   "outputs": [
    {
     "name": "stdout",
     "output_type": "stream",
     "text": [
      "train\n",
      "                               WORD                               LABEL\n",
      "                                  i                                   O\n",
      "                               want                                   O\n",
      "                                 to                                   O\n",
      "                                fly                                   O\n",
      "                               from                                   O\n",
      "                             boston                 B-fromloc.city_name\n",
      "                                 at                                   O\n",
      "                    DIGITDIGITDIGIT                  B-depart_time.time\n",
      "                                 am                  I-depart_time.time\n",
      "                                and                                   O\n",
      "                             arrive                                   O\n",
      "                                 in                                   O\n",
      "                             denver                   B-toloc.city_name\n",
      "                                 at                                   O\n",
      "               DIGITDIGITDIGITDIGIT                  B-arrive_time.time\n",
      "                                 in                                   O\n",
      "                                the                                   O\n",
      "                            morning         B-arrive_time.period_of_day\n",
      "\n",
      "************************************************************\n",
      "\n",
      "                               WORD                               LABEL\n",
      "                               what                                   O\n",
      "                            flights                                   O\n",
      "                                are                                   O\n",
      "                          available                                   O\n",
      "                               from                                   O\n",
      "                         pittsburgh                 B-fromloc.city_name\n",
      "                                 to                                   O\n",
      "                          baltimore                   B-toloc.city_name\n",
      "                                 on                                   O\n",
      "                           thursday              B-depart_date.day_name\n",
      "                            morning         B-depart_time.period_of_day\n",
      "\n",
      "************************************************************\n",
      "\n",
      "test\n",
      "                               WORD                               LABEL\n",
      "                                  i                                   O\n",
      "                              would                                   O\n",
      "                               like                                   O\n",
      "                                 to                                   O\n",
      "                               find                                   O\n",
      "                                  a                                   O\n",
      "                             flight                                   O\n",
      "                               from                                   O\n",
      "                          charlotte                 B-fromloc.city_name\n",
      "                                 to                                   O\n",
      "                                las                   B-toloc.city_name\n",
      "                              vegas                   I-toloc.city_name\n",
      "                               that                                   O\n",
      "                              makes                                   O\n",
      "                                  a                                   O\n",
      "                               stop                                   O\n",
      "                                 in                                   O\n",
      "                                st.                 B-stoploc.city_name\n",
      "                              louis                 I-stoploc.city_name\n",
      "\n",
      "************************************************************\n",
      "\n",
      "                               WORD                               LABEL\n",
      "                                 on                                   O\n",
      "                              april            B-depart_date.month_name\n",
      "                              first            B-depart_date.day_number\n",
      "                                  i                                   O\n",
      "                               need                                   O\n",
      "                                  a                                   O\n",
      "                             ticket                                   O\n",
      "                               from                                   O\n",
      "                             tacoma                 B-fromloc.city_name\n",
      "                                 to                                   O\n",
      "                                san                   B-toloc.city_name\n",
      "                               jose                   I-toloc.city_name\n",
      "                          departing                                   O\n",
      "                             before         B-depart_time.time_relative\n",
      "                              DIGIT                  B-depart_time.time\n",
      "                                 am                  I-depart_time.time\n",
      "\n",
      "************************************************************\n",
      "\n"
     ]
    }
   ],
   "source": [
    "#Dictionaries and train test partition\n",
    "w2idx = dict()\n",
    "for i in dicts[b'words2idx']:\n",
    "    w2idx[i.decode(\"utf-8\")] = dicts[b'words2idx'][i]\n",
    "\n",
    "ne2idx = dict()\n",
    "for i in dicts[b'tables2idx']:\n",
    "    ne2idx[i.decode(\"utf-8\")] = dicts[b'tables2idx'][i]\n",
    "\n",
    "labels2idx = dict()\n",
    "for i in dicts[b'labels2idx']:\n",
    "    labels2idx[i.decode(\"utf-8\")] = dicts[b'labels2idx'][i]\n",
    "    \n",
    "idx2w  = dict((v,k) for k,v in w2idx.items())\n",
    "idx2la = dict((v,k) for k,v in labels2idx.items())\n",
    "\n",
    "train_x, _, train_label = train\n",
    "test_x,  _,  test_label  = test\n",
    "\n",
    "\n",
    "\n",
    "# Visualize data\n",
    "wlength = 35\n",
    "for e in ['train','test']:\n",
    "    print(e)\n",
    "    for sw, sl in zip(eval(e+'_x')[:2], eval(e+'_label')[:2]):\n",
    "        print( 'WORD'.rjust(wlength), 'LABEL'.rjust(wlength))\n",
    "        for wx, la in zip(sw, sl): print( idx2w[wx].rjust(wlength), idx2la[la].rjust(wlength))\n",
    "        print( '\\n'+'**'*30+'\\n')\n"
   ]
  },
  {
   "cell_type": "code",
   "execution_count": 4,
   "metadata": {},
   "outputs": [
    {
     "name": "stdout",
     "output_type": "stream",
     "text": [
      "train\n",
      "---------\n",
      "boston\n",
      "pittsburgh\n",
      "san\n",
      "washington\n",
      "tacoma\n",
      "pittsburgh\n",
      "\n",
      "\n",
      "test\n",
      "---------\n",
      "charlotte\n",
      "tacoma\n",
      "phoenix\n",
      "phoenix\n",
      "orlando\n",
      "\n",
      "\n"
     ]
    }
   ],
   "source": [
    "#Select words for the label 48: b'B-fromloc.city_name' in train and test to check that are different:\n",
    "for e in ['train','test']:\n",
    "    print(e)\n",
    "    print('---------')\n",
    "    for sw, sl in zip(eval(e+'_x')[:5], eval(e+'_label')[:5]):\n",
    "        for wx, la in zip(sw, sl): \n",
    "            if la==48:\n",
    "                print( idx2w[wx])\n",
    "    print('\\n')\n"
   ]
  },
  {
   "cell_type": "markdown",
   "metadata": {},
   "source": [
    "## Data transformation\n",
    "    - Convert the list of sequences of words into an array of words x characteristics.\n",
    "    - The characteristics are the context of the word in the sentence.\n",
    "        - For each word in the sentence, generate the context with the previous and the next words in the sentence.\n",
    "        - For words at the beggining and the end, use padding to complete the context."
   ]
  },
  {
   "cell_type": "code",
   "execution_count": 6,
   "metadata": {},
   "outputs": [
    {
     "name": "stdout",
     "output_type": "stream",
     "text": [
      "ID_PAD:  572\n",
      "Context vectors:  [[572, 572, 0, 1, 2], [572, 0, 1, 2, 3], [0, 1, 2, 3, 4], [1, 2, 3, 4, 572], [2, 3, 4, 572, 572]]\n"
     ]
    }
   ],
   "source": [
    "# Max value of word coding to assign the ID_PAD\n",
    "ID_PAD = np.max([np.max(tx) for tx in train_x]) + 1\n",
    "print('ID_PAD: ', ID_PAD)\n",
    "\n",
    "def context(l, size=3):\n",
    "    l = list(l)\n",
    "    lpadded = size // 2 * [ID_PAD] + l + size // 2 * [ID_PAD]\n",
    "    out = [lpadded[i:(i + size)] for i in range(len(l))]\n",
    "    return out\n",
    "\n",
    "#Example\n",
    "x = np.array([0, 1, 2, 3, 4], dtype=np.int32)\n",
    "print('Context vectors: ', context(x, size=5))"
   ]
  },
  {
   "cell_type": "code",
   "execution_count": 8,
   "metadata": {},
   "outputs": [
    {
     "name": "stdout",
     "output_type": "stream",
     "text": [
      "X trn shape:  (56590, 10)\n",
      "X_tst shape:  (9198, 10)\n",
      "y_trn shape:  (56590,)\n",
      "y_tst shape:  (9198,)\n"
     ]
    }
   ],
   "source": [
    "# Create train and test X y.\n",
    "X_trn=[]\n",
    "for s in train_x:\n",
    "    X_trn += context(s,size=10)\n",
    "X_trn = np.array(X_trn)\n",
    "\n",
    "X_tst=[]\n",
    "for s in test_x:\n",
    "    X_tst += context(s,size=10)\n",
    "X_tst = np.array(X_tst)\n",
    "\n",
    "print('X trn shape: ', X_trn.shape)\n",
    "print('X_tst shape: ',X_tst.shape)\n",
    "\n",
    "\n",
    "y_trn=[]\n",
    "for s in train_label:\n",
    "    y_trn += list(s)\n",
    "y_trn = np.array(y_trn)\n",
    "print('y_trn shape: ',y_trn.shape)\n",
    "\n",
    "y_tst=[]\n",
    "for s in test_label:\n",
    "    y_tst += list(s)\n",
    "y_tst = np.array(y_tst)\n",
    "print('y_tst shape: ',y_tst.shape)\n"
   ]
  },
  {
   "cell_type": "code",
   "execution_count": 9,
   "metadata": {},
   "outputs": [
    {
     "name": "stdout",
     "output_type": "stream",
     "text": [
      "Num labels:  121\n",
      "Num words:  572\n"
     ]
    }
   ],
   "source": [
    "print('Num labels: ',len(set(y_trn)))\n",
    "print('Num words: ',len(set(idx2w)))"
   ]
  },
  {
   "cell_type": "markdown",
   "metadata": {},
   "source": [
    "# First model\n",
    "\n",
    "## Architecture\n",
    "    - tf.nn.embedding_lookup\n",
    "    - Dense layer: tf.nn.relu(tf.matmul(x, W) + b)\n",
    "    "
   ]
  },
  {
   "cell_type": "code",
   "execution_count": 10,
   "metadata": {},
   "outputs": [],
   "source": [
    "#General parameters\n",
    "LOG_DIR = '../../data/tensorboard/airline/embeddings/'\n",
    "\n",
    "# data attributes\n",
    "input_seq_length = X_trn.shape[1]\n",
    "input_vocabulary_size = len(set(idx2w)) + 1\n",
    "output_length = 127\n",
    "\n",
    "#Model parameters\n",
    "embedding_size=64\n"
   ]
  },
  {
   "cell_type": "code",
   "execution_count": 20,
   "metadata": {},
   "outputs": [
    {
     "name": "stdout",
     "output_type": "stream",
     "text": [
      "Build model 1\n",
      "_________________________________________________________________\n",
      "Layer (type)                 Output Shape              Param #   \n",
      "=================================================================\n",
      "prev (InputLayer)            (None, 10)                0         \n",
      "_________________________________________________________________\n",
      "embedding_6 (Embedding)      (None, 10, 64)            36672     \n",
      "_________________________________________________________________\n",
      "flatten_2 (Flatten)          (None, 640)               0         \n",
      "_________________________________________________________________\n",
      "dense_4 (Dense)              (None, 127)               81407     \n",
      "=================================================================\n",
      "Total params: 118,079\n",
      "Trainable params: 118,079\n",
      "Non-trainable params: 0\n",
      "_________________________________________________________________\n"
     ]
    }
   ],
   "source": [
    "# build the model: Simple LSTM with embedings\n",
    "print('Build model 1')\n",
    "seq_input = tf.keras.layers.Input(shape=([input_seq_length]), name='prev') \n",
    "    \n",
    "embeds = tf.keras.layers.Embedding(input_vocabulary_size, embedding_size)(seq_input)\n",
    "\n",
    "flat_embeds = tf.keras.layers.Flatten()(embeds)\n",
    "    \n",
    "output = tf.keras.layers.Dense(output_length, activation='softmax')(flat_embeds)\n",
    "\n",
    "model1 = tf.keras.models.Model(inputs=seq_input, outputs=output)\n",
    "model1.summary()\n",
    "\n",
    "# Optimizer\n",
    "adam_optimizer = tf.keras.optimizers.Adam()\n",
    "model1.compile(loss='sparse_categorical_crossentropy', optimizer=adam_optimizer, metrics=['accuracy'])\n"
   ]
  },
  {
   "cell_type": "code",
   "execution_count": 12,
   "metadata": {},
   "outputs": [
    {
     "name": "stdout",
     "output_type": "stream",
     "text": [
      "Train on 56590 samples, validate on 9198 samples\n",
      "Epoch 1/20\n",
      "56590/56590 [==============================] - 2s 33us/step - loss: 0.9700 - acc: 0.7872 - val_loss: 0.5863 - val_acc: 0.8634\n",
      "Epoch 2/20\n",
      "56590/56590 [==============================] - 2s 30us/step - loss: 0.2800 - acc: 0.9348 - val_loss: 0.3078 - val_acc: 0.9295\n",
      "Epoch 3/20\n",
      "56590/56590 [==============================] - 2s 29us/step - loss: 0.1361 - acc: 0.9690 - val_loss: 0.2275 - val_acc: 0.9475\n",
      "Epoch 4/20\n",
      "56590/56590 [==============================] - 2s 28us/step - loss: 0.0844 - acc: 0.9806 - val_loss: 0.1893 - val_acc: 0.9573\n",
      "Epoch 5/20\n",
      "56590/56590 [==============================] - 2s 28us/step - loss: 0.0580 - acc: 0.9863 - val_loss: 0.1619 - val_acc: 0.9644\n",
      "Epoch 6/20\n",
      "56590/56590 [==============================] - 2s 31us/step - loss: 0.0428 - acc: 0.9898 - val_loss: 0.1535 - val_acc: 0.9679\n",
      "Epoch 7/20\n",
      "56590/56590 [==============================] - 2s 30us/step - loss: 0.0323 - acc: 0.9923 - val_loss: 0.1499 - val_acc: 0.9692\n",
      "Epoch 8/20\n",
      "56590/56590 [==============================] - 2s 30us/step - loss: 0.0251 - acc: 0.9939 - val_loss: 0.1474 - val_acc: 0.9708\n",
      "Epoch 9/20\n",
      "56590/56590 [==============================] - 2s 31us/step - loss: 0.0206 - acc: 0.9949 - val_loss: 0.1420 - val_acc: 0.9708\n",
      "Epoch 10/20\n",
      "56590/56590 [==============================] - 2s 30us/step - loss: 0.0166 - acc: 0.9962 - val_loss: 0.1466 - val_acc: 0.9713\n",
      "Epoch 11/20\n",
      "56590/56590 [==============================] - 2s 31us/step - loss: 0.0130 - acc: 0.9971 - val_loss: 0.1512 - val_acc: 0.9713\n",
      "Epoch 12/20\n",
      "56590/56590 [==============================] - 2s 30us/step - loss: 0.0108 - acc: 0.9978 - val_loss: 0.1500 - val_acc: 0.9720\n",
      "Epoch 13/20\n",
      "56590/56590 [==============================] - 2s 30us/step - loss: 0.0093 - acc: 0.9978 - val_loss: 0.1562 - val_acc: 0.9722\n",
      "Epoch 14/20\n",
      "56590/56590 [==============================] - 2s 29us/step - loss: 0.0076 - acc: 0.9983 - val_loss: 0.1578 - val_acc: 0.9723\n",
      "Epoch 15/20\n",
      "56590/56590 [==============================] - 2s 30us/step - loss: 0.0066 - acc: 0.9986 - val_loss: 0.1499 - val_acc: 0.9722\n",
      "Epoch 16/20\n",
      "56590/56590 [==============================] - 2s 33us/step - loss: 0.0056 - acc: 0.9989 - val_loss: 0.1578 - val_acc: 0.9735\n",
      "Epoch 17/20\n",
      "56590/56590 [==============================] - 2s 35us/step - loss: 0.0048 - acc: 0.9990 - val_loss: 0.1655 - val_acc: 0.9724\n",
      "Epoch 18/20\n",
      "56590/56590 [==============================] - 2s 32us/step - loss: 0.0043 - acc: 0.9990 - val_loss: 0.1665 - val_acc: 0.9724\n",
      "Epoch 19/20\n",
      "56590/56590 [==============================] - 2s 31us/step - loss: 0.0038 - acc: 0.9992 - val_loss: 0.1726 - val_acc: 0.9725\n",
      "Epoch 20/20\n",
      "56590/56590 [==============================] - 2s 30us/step - loss: 0.0035 - acc: 0.9992 - val_loss: 0.1733 - val_acc: 0.9726\n"
     ]
    }
   ],
   "source": [
    "#Fit model\n",
    "\n",
    "tb_callback = tf.keras.callbacks.TensorBoard(log_dir=LOG_DIR)\n",
    "\n",
    "history = model1.fit(X_trn, y_trn, batch_size=128, epochs=20,\n",
    "           validation_data=(X_tst, y_tst), callbacks=[tb_callback])\n"
   ]
  },
  {
   "cell_type": "code",
   "execution_count": 13,
   "metadata": {},
   "outputs": [
    {
     "data": {
      "image/png": "[encoded data removed]",
      "text/plain": [
       "<Figure size 720x720 with 1 Axes>"
      ]
     },
     "metadata": {},
     "output_type": "display_data"
    }
   ],
   "source": [
    "#Plot graphs in the notebook output\n",
    "plt.rcParams['figure.figsize'] = (10, 10)        # size of images\n",
    "\n",
    "plt.plot(history.history['acc'])\n",
    "plt.plot(history.history['val_acc'])\n",
    "plt.show()"
   ]
  },
  {
   "cell_type": "code",
   "execution_count": null,
   "metadata": {},
   "outputs": [],
   "source": [
    "# Predict. Score new paragraph \n",
    "def score_paragraph(paragraph):\n",
    "    #Preprocess data\n",
    "    p_w = paragraph.split()\n",
    "    p_w_c = [w2idx[w] for w in  p_w]\n",
    "    x_score = np.array(context(p_w_c, size=10))\n",
    "    \n",
    "    # Score\n",
    "    pred_score = model1.predict(x_score)\n",
    "    response = [idx2la[l] for l in np.argmax(pred_score,axis=1)]\n",
    "    \n",
    "    return response\n",
    "\n",
    "\n",
    "paragraph = 'i need a business ticket in any flight with departure from alaska to las vegas monday with breakfast'\n",
    "response = score_paragraph(paragraph)\n",
    "wlength = 35\n",
    "for wx, la in zip(paragraph.split(), response): print( wx.rjust(wlength), la.rjust(wlength))\n"
   ]
  },
  {
   "cell_type": "code",
   "execution_count": null,
   "metadata": {
    "collapsed": true
   },
   "outputs": [],
   "source": []
  }
 ],
 "metadata": {
  "anaconda-cloud": {},
  "kernelspec": {
   "display_name": "Python 3",
   "language": "python",
   "name": "python3"
  },
  "language_info": {
   "codemirror_mode": {
    "name": "ipython",
    "version": 3
   },
   "file_extension": ".py",
   "mimetype": "text/x-python",
   "name": "python",
   "nbconvert_exporter": "python",
   "pygments_lexer": "ipython3",
   "version": "3.6.5"
  }
 },
 "nbformat": 4,
 "nbformat_minor": 2
}
